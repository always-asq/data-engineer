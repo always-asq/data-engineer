{
 "cells": [
  {
   "cell_type": "code",
   "execution_count": null,
   "metadata": {},
   "outputs": [],
   "source": []
  },
  {
   "attachments": {},
   "cell_type": "markdown",
   "metadata": {},
   "source": [
    "# Data Visualization for Data Engineering\n",
    "\n",
    "In this Jupyter Notebook, we will explore data visualization techniques using Pandas and Matplotlib on the \"Adult Income\" dataset from the UCI Machine Learning Repository.\n"
   ]
  },
  {
   "attachments": {},
   "cell_type": "markdown",
   "metadata": {},
   "source": [
    "First, make sure to install the required libraries if you haven't already:"
   ]
  },
  {
   "cell_type": "code",
   "execution_count": null,
   "metadata": {},
   "outputs": [],
   "source": [
    "%pip install pandas matplotlib\n"
   ]
  },
  {
   "attachments": {},
   "cell_type": "markdown",
   "metadata": {},
   "source": [
    "## 1. Importing Libraries"
   ]
  },
  {
   "cell_type": "code",
   "execution_count": null,
   "metadata": {},
   "outputs": [],
   "source": [
    "import pandas as pd\n",
    "import matplotlib.pyplot as plt\n"
   ]
  },
  {
   "attachments": {},
   "cell_type": "markdown",
   "metadata": {},
   "source": [
    "## 2. Loading the Dataset\n",
    "We will use the \"Adult Income\" dataset from the UCI Machine Learning Repository."
   ]
  },
  {
   "cell_type": "code",
   "execution_count": null,
   "metadata": {},
   "outputs": [],
   "source": [
    "url = \"https://archive.ics.uci.edu/ml/machine-learning-databases/adult/adult.data\"\n",
    "column_names = [\"age\", \"workclass\", \"fnlwgt\", \"education\", \"education-num\", \"marital-status\", \"occupation\", \"relationship\", \"race\", \"sex\", \"capital-gain\", \"capital-loss\", \"hours-per-week\", \"native-country\", \"income\"]\n",
    "\n",
    "df = pd.read_csv(url, header=None, names=column_names, na_values=' ?', skipinitialspace=True)\n",
    "df.head()\n"
   ]
  },
  {
   "attachments": {},
   "cell_type": "markdown",
   "metadata": {},
   "source": [
    "## 3. Visualizing Numeric Columns\n",
    "### Histograms\n",
    "Histograms are a great way to visualize the distribution of numeric columns."
   ]
  },
  {
   "cell_type": "code",
   "execution_count": null,
   "metadata": {},
   "outputs": [],
   "source": [
    "df['age'].hist(bins=20)\n",
    "plt.xlabel('Age')\n",
    "plt.ylabel('Frequency')\n",
    "plt.title('Age Distribution')\n",
    "plt.show()\n"
   ]
  },
  {
   "attachments": {},
   "cell_type": "markdown",
   "metadata": {},
   "source": [
    "### Box Plots\n",
    "Box plots are useful for visualizing the distribution and detecting outliers in numeric columns."
   ]
  },
  {
   "cell_type": "code",
   "execution_count": null,
   "metadata": {},
   "outputs": [],
   "source": [
    "df.boxplot(column='age', by='income')\n",
    "plt.xlabel('Income')\n",
    "plt.ylabel('Age')\n",
    "plt.title('Age Distribution by Income')\n",
    "plt.suptitle('')  # Suppress the automatically generated title\n",
    "plt.show()\n"
   ]
  },
  {
   "attachments": {},
   "cell_type": "markdown",
   "metadata": {},
   "source": [
    "## 4. Visualizing Categorical Columns\n",
    "### Bar Plots\n",
    "Bar plots are ideal for visualizing the distribution of categorical columns."
   ]
  },
  {
   "cell_type": "code",
   "execution_count": null,
   "metadata": {},
   "outputs": [],
   "source": [
    "workclass_counts = df['workclass'].value_counts()\n",
    "workclass_counts.plot(kind='bar')\n",
    "plt.xlabel('Workclass')\n",
    "plt.ylabel('Frequency')\n",
    "plt.title('Workclass Distribution')\n",
    "plt.show()\n"
   ]
  },
  {
   "attachments": {},
   "cell_type": "markdown",
   "metadata": {},
   "source": [
    "### Pie Charts\n",
    "Pie charts are another way to visualize the distribution of categorical columns."
   ]
  },
  {
   "cell_type": "code",
   "execution_count": null,
   "metadata": {},
   "outputs": [],
   "source": [
    "education_counts = df['education'].value_counts()\n",
    "education_counts.plot(kind='pie', autopct='%.1f%%', figsize=(10, 10))\n",
    "plt.ylabel('')  # Remove the automatically generated ylabel\n",
    "plt.title('Education Distribution')\n",
    "plt.show()\n"
   ]
  },
  {
   "attachments": {},
   "cell_type": "markdown",
   "metadata": {},
   "source": [
    "## 5. Visualizing Relationships Between Columns\n",
    "### Scatter Plots\n",
    "Scatter plots are useful for visualizing the relationship between two numeric columns."
   ]
  },
  {
   "cell_type": "code",
   "execution_count": null,
   "metadata": {},
   "outputs": [],
   "source": [
    "df.plot(kind='scatter', x='age', y='hours-per-week', alpha=0.1)\n",
    "plt.xlabel('Age')\n",
    "plt.ylabel('Hours per Week')\n",
    "plt.title('Scatter Plot of Age vs. Hours per Week')\n",
    "plt.show()\n"
   ]
  },
  {
   "attachments": {},
   "cell_type": "markdown",
   "metadata": {},
   "source": [
    "### Grouped Bar Plots\n",
    "Grouped bar plots are ideal for visualizing the distribution of a categorical column grouped by another categorical column."
   ]
  },
  {
   "cell_type": "code",
   "execution_count": null,
   "metadata": {},
   "outputs": [],
   "source": [
    "grouped_counts = df.groupby(['income', 'sex']).size().unstack()\n",
    "grouped_counts.plot(kind='bar')\n",
    "plt.xlabel('Income')\n",
    "plt.ylabel('Frequency')\n",
    "plt.title('Income Distribution by Sex')\n",
    "plt.show()\n"
   ]
  },
  {
   "attachments": {},
   "cell_type": "markdown",
   "metadata": {},
   "source": [
    "These visualizations are just a starting point for exploring your dataset. You can customize the appearance and create more complex visualizations by further exploring the Pandas and Matplotlib libraries. Additionally, you may want to explore other visualization libraries such as Seaborn or Plotly for more advanced or interactive visualizations."
   ]
  }
 ],
 "metadata": {
  "language_info": {
   "name": "python"
  },
  "orig_nbformat": 4
 },
 "nbformat": 4,
 "nbformat_minor": 2
}
