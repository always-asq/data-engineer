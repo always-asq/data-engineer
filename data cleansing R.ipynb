{
 "cells": [
  {
   "attachments": {},
   "cell_type": "markdown",
   "metadata": {},
   "source": [
    "# Data cleansing in R\n",
    "\n",
    "This notebook shows how data cleansing can work in R"
   ]
  },
  {
   "cell_type": "code",
   "execution_count": null,
   "metadata": {},
   "outputs": [],
   "source": [
    "# Install necessary packages\n",
    "#install.packages(\"tidyverse\")\n",
    "#install.packages(\"readr\")\n"
   ]
  },
  {
   "attachments": {},
   "cell_type": "markdown",
   "metadata": {},
   "source": [
    "### Load necessary libraries"
   ]
  },
  {
   "cell_type": "code",
   "execution_count": null,
   "metadata": {},
   "outputs": [],
   "source": [
    "\n",
    "\n",
    "library(tidyverse)\n",
    "library(readr)\n"
   ]
  },
  {
   "attachments": {},
   "cell_type": "markdown",
   "metadata": {},
   "source": [
    "### Loading the Sample Dataset"
   ]
  },
  {
   "cell_type": "code",
   "execution_count": null,
   "metadata": {},
   "outputs": [],
   "source": [
    "\n",
    "\n",
    "data <- data.frame(\n",
    "  name = c('Alice', 'Bob', 'Charlie', 'David', 'Eve', 'Frank', 'Grace'),\n",
    "  age = c(24, NA, 22, 29, 25, NA, 30),\n",
    "  city = c('New York', 'Los Angeles', 'Chicago', NA, 'San Francisco', 'Seattle', 'Austin'),\n",
    "  income = c(50000, 48000, NA, 53000, 45000, 55000, NA)\n",
    ")\n",
    "\n",
    "print(data)\n"
   ]
  },
  {
   "attachments": {},
   "cell_type": "markdown",
   "metadata": {},
   "source": [
    "### Removing Missing Data\n",
    "## Exercise 1: Remove rows with missing data"
   ]
  },
  {
   "cell_type": "code",
   "execution_count": null,
   "metadata": {},
   "outputs": [],
   "source": [
    "\n",
    "\n",
    "data_cleaned <- na.omit(data)\n",
    "print(data_cleaned)\n"
   ]
  },
  {
   "attachments": {},
   "cell_type": "markdown",
   "metadata": {},
   "source": [
    "## Exercise 2: Remove columns with missing data"
   ]
  },
  {
   "cell_type": "code",
   "execution_count": null,
   "metadata": {},
   "outputs": [],
   "source": [
    "\n",
    "\n",
    "data_cleaned <- data[, colSums(is.na(data)) == 0]\n",
    "print(data_cleaned)\n"
   ]
  },
  {
   "attachments": {},
   "cell_type": "markdown",
   "metadata": {},
   "source": [
    "\n",
    "### Replacing Missing Data with Constructed Values\n",
    "## Exercise 3: Replace missing values with a constant"
   ]
  },
  {
   "cell_type": "code",
   "execution_count": null,
   "metadata": {},
   "outputs": [],
   "source": [
    "\n",
    "data_filled <- data\n",
    "data_filled[is.na(data_filled)] <- 0\n",
    "print(data_filled)\n"
   ]
  },
  {
   "attachments": {},
   "cell_type": "markdown",
   "metadata": {},
   "source": [
    "## Exercise 4: Replace missing values using forward fill\n"
   ]
  },
  {
   "cell_type": "code",
   "execution_count": null,
   "metadata": {},
   "outputs": [],
   "source": [
    "\n",
    "data_filled <- data %>% fill(age:income, .direction = \"down\")\n",
    "print(data_filled)\n"
   ]
  },
  {
   "attachments": {},
   "cell_type": "markdown",
   "metadata": {},
   "source": [
    "## Exercise 5: Replace missing values using backward fill\n"
   ]
  },
  {
   "cell_type": "code",
   "execution_count": null,
   "metadata": {},
   "outputs": [],
   "source": [
    "\n",
    "data_filled <- data %>% fill(age:income, .direction = \"up\")\n",
    "print(data_filled)\n"
   ]
  },
  {
   "attachments": {},
   "cell_type": "markdown",
   "metadata": {},
   "source": [
    "## Exercise 6: Replace missing values with the mean\n"
   ]
  },
  {
   "cell_type": "code",
   "execution_count": null,
   "metadata": {},
   "outputs": [],
   "source": [
    "\n",
    "data_filled <- data\n",
    "data_filled$age <- ifelse(is.na(data_filled$age), mean(data_filled$age, na.rm = TRUE), data_filled$age)\n",
    "data_filled$income <- ifelse(is.na(data_filled$income), mean(data_filled$income, na.rm = TRUE), data_filled$income)\n",
    "print(data_filled)\n"
   ]
  },
  {
   "attachments": {},
   "cell_type": "markdown",
   "metadata": {},
   "source": [
    "## Exercise 7: Replace missing values with the median\n"
   ]
  },
  {
   "cell_type": "code",
   "execution_count": null,
   "metadata": {},
   "outputs": [],
   "source": [
    "\n",
    "data_filled <- data\n",
    "data_filled$age <- ifelse(is.na(data_filled$age), median(data_filled$age, na.rm = TRUE), data_filled$age)\n",
    "data_filled$income <- ifelse(is.na(data_filled$income), median(data_filled$income, na.rm = TRUE), data_filled$income)\n",
    "print(data_filled)\n"
   ]
  },
  {
   "attachments": {},
   "cell_type": "markdown",
   "metadata": {},
   "source": [
    "## Exercise 8: Replace missing values with the mode\n"
   ]
  },
  {
   "cell_type": "code",
   "execution_count": null,
   "metadata": {},
   "outputs": [],
   "source": [
    "\n",
    "mode <- function(x) {\n",
    "  ux <- unique(x)\n",
    "  ux[which.max(tabulate(match(x, ux)))]\n",
    "}\n",
    "\n",
    "data_filled <- data\n",
    "data_filled$age <- ifelse(is.na(data_filled$age), mode(data_filled$age), data_filled$age)\n",
    "data_filled$income <- ifelse(is.na(data_filled$income), mode(data_filled$income), data_filled$income)\n",
    "print(data_filled)\n"
   ]
  }
 ],
 "metadata": {
  "language_info": {
   "name": "python"
  },
  "orig_nbformat": 4
 },
 "nbformat": 4,
 "nbformat_minor": 2
}
