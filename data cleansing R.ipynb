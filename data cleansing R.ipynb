{
 "cells": [
  {
   "cell_type": "code",
   "execution_count": null,
   "metadata": {},
   "outputs": [],
   "source": [
    "# Install necessary packages\n",
    "#install.packages(\"tidyverse\")\n",
    "#install.packages(\"readr\")\n"
   ]
  },
  {
   "cell_type": "code",
   "execution_count": null,
   "metadata": {},
   "outputs": [],
   "source": [
    "\n",
    "# Load necessary libraries\n",
    "library(tidyverse)\n",
    "library(readr)\n"
   ]
  },
  {
   "cell_type": "code",
   "execution_count": null,
   "metadata": {},
   "outputs": [],
   "source": [
    "\n",
    "# Loading the Sample Dataset\n",
    "data <- data.frame(\n",
    "  name = c('Alice', 'Bob', 'Charlie', 'David', 'Eve', 'Frank', 'Grace'),\n",
    "  age = c(24, NA, 22, 29, 25, NA, 30),\n",
    "  city = c('New York', 'Los Angeles', 'Chicago', NA, 'San Francisco', 'Seattle', 'Austin'),\n",
    "  income = c(50000, 48000, NA, 53000, 45000, 55000, NA)\n",
    ")\n",
    "\n",
    "print(data)\n"
   ]
  },
  {
   "cell_type": "code",
   "execution_count": null,
   "metadata": {},
   "outputs": [],
   "source": [
    "\n",
    "# Removing Missing Data\n",
    "## Exercise 1: Remove rows with missing data\n",
    "data_cleaned <- na.omit(data)\n",
    "print(data_cleaned)\n"
   ]
  },
  {
   "cell_type": "code",
   "execution_count": null,
   "metadata": {},
   "outputs": [],
   "source": [
    "\n",
    "## Exercise 2: Remove columns with missing data\n",
    "data_cleaned <- data[, colSums(is.na(data)) == 0]\n",
    "print(data_cleaned)\n"
   ]
  },
  {
   "cell_type": "code",
   "execution_count": null,
   "metadata": {},
   "outputs": [],
   "source": [
    "\n",
    "# Replacing Missing Data with Constructed Values\n",
    "## Exercise 3: Replace missing values with a constant\n",
    "data_filled <- data\n",
    "data_filled[is.na(data_filled)] <- 0\n",
    "print(data_filled)\n"
   ]
  },
  {
   "cell_type": "code",
   "execution_count": null,
   "metadata": {},
   "outputs": [],
   "source": [
    "\n",
    "## Exercise 4: Replace missing values using forward fill\n",
    "data_filled <- data %>% fill(age:income, .direction = \"down\")\n",
    "print(data_filled)\n"
   ]
  },
  {
   "cell_type": "code",
   "execution_count": null,
   "metadata": {},
   "outputs": [],
   "source": [
    "\n",
    "## Exercise 5: Replace missing values using backward fill\n",
    "data_filled <- data %>% fill(age:income, .direction = \"up\")\n",
    "print(data_filled)\n"
   ]
  },
  {
   "cell_type": "code",
   "execution_count": null,
   "metadata": {},
   "outputs": [],
   "source": [
    "\n",
    "## Exercise 6: Replace missing values with the mean\n",
    "data_filled <- data\n",
    "data_filled$age <- ifelse(is.na(data_filled$age), mean(data_filled$age, na.rm = TRUE), data_filled$age)\n",
    "data_filled$income <- ifelse(is.na(data_filled$income), mean(data_filled$income, na.rm = TRUE), data_filled$income)\n",
    "print(data_filled)\n"
   ]
  },
  {
   "cell_type": "code",
   "execution_count": null,
   "metadata": {},
   "outputs": [],
   "source": [
    "\n",
    "## Exercise 7: Replace missing values with the median\n",
    "data_filled <- data\n",
    "data_filled$age <- ifelse(is.na(data_filled$age), median(data_filled$age, na.rm = TRUE), data_filled$age)\n",
    "data_filled$income <- ifelse(is.na(data_filled$income), median(data_filled$income, na.rm = TRUE), data_filled$income)\n",
    "print(data_filled)\n"
   ]
  },
  {
   "cell_type": "code",
   "execution_count": null,
   "metadata": {},
   "outputs": [],
   "source": [
    "\n",
    "## Exercise 8: Replace missing values with the mode\n",
    "mode <- function(x) {\n",
    "  ux <- unique(x)\n",
    "  ux[which.max(tabulate(match(x, ux)))]\n",
    "}\n",
    "\n",
    "data_filled <- data\n",
    "data_filled$age <- ifelse(is.na(data_filled$age), mode(data_filled$age), data_filled$age)\n",
    "data_filled$income <- ifelse(is.na(data_filled$income), mode(data_filled$income), data_filled$income)\n",
    "print(data_filled)\n"
   ]
  }
 ],
 "metadata": {
  "language_info": {
   "name": "python"
  },
  "orig_nbformat": 4
 },
 "nbformat": 4,
 "nbformat_minor": 2
}
