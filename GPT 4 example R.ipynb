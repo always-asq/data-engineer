{
 "cells": [
  {
   "cell_type": "code",
   "execution_count": null,
   "metadata": {},
   "outputs": [],
   "source": [
    "# Load required libraries\n",
    "library(tidyverse)\n",
    "\n",
    "# Set input and output file paths\n",
    "input_file <- \"input_data.csv\"\n",
    "output_file <- \"cleaned_data.csv\"\n",
    "\n",
    "# Read the input CSV file\n",
    "data <- read_csv(input_file)\n",
    "\n",
    "# Inspect the first few rows of the data\n",
    "print(head(data))\n",
    "\n",
    "# Step 1: Data Cleaning\n",
    "# Remove any rows containing missing values (NA)\n",
    "data <- drop_na(data)\n",
    "\n",
    "# Convert columns with string representations of numbers to numeric data types\n",
    "# Replace 'column1', 'column2' with your actual column names\n",
    "data$column1 <- as.numeric(data$column1)\n",
    "data$column2 <- as.numeric(data$column2)\n",
    "\n",
    "# Remove any rows containing non-numeric values after conversion\n",
    "data <- drop_na(data)\n",
    "\n",
    "# Step 2: Data Transformation (if required)\n",
    "# Perform any necessary data transformations here, such as aggregations, filtering, or calculations\n",
    "# For example, let's calculate the average of 'column1' and 'column2'\n",
    "data$average <- (data$column1 + data$column2) / 2\n",
    "\n",
    "# Step 3: Data Storage\n",
    "# Save the cleaned and transformed data to a new CSV file\n",
    "write_csv(data, output_file)\n",
    "\n",
    "# Print the first few rows of the cleaned data\n",
    "print(head(data))\n"
   ]
  }
 ],
 "metadata": {
  "language_info": {
   "name": "python"
  },
  "orig_nbformat": 4
 },
 "nbformat": 4,
 "nbformat_minor": 2
}
