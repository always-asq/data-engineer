{
 "cells": [
  {
   "attachments": {},
   "cell_type": "markdown",
   "metadata": {},
   "source": [
    "# Data Cleaning in Jupyter Notebook for Data Engineers\n",
    "In this Jupyter Notebook, we will practice data cleaning techniques on a sample dataset. We'll focus on handling missing data, either by removing it or replacing it with constructed values. To follow along, create a new Jupyter Notebook in your preferred environment and copy the provided code snippets.\n",
    "\n",
    "We'll use the popular Python libraries Pandas and NumPy for this exercise. Make sure to install them if you haven't already:\n"
   ]
  },
  {
   "cell_type": "code",
   "execution_count": null,
   "metadata": {
    "vscode": {
     "languageId": "python"
    }
   },
   "outputs": [],
   "source": [
    "\n",
    "%pip install pandas numpy"
   ]
  },
  {
   "attachments": {},
   "cell_type": "markdown",
   "metadata": {},
   "source": [
    "\n",
    "## 1. Importing Libraries"
   ]
  },
  {
   "cell_type": "code",
   "execution_count": null,
   "metadata": {
    "vscode": {
     "languageId": "python"
    }
   },
   "outputs": [],
   "source": [
    "\n",
    "import pandas as pd\n",
    "import numpy as np"
   ]
  },
  {
   "attachments": {},
   "cell_type": "markdown",
   "metadata": {},
   "source": [
    "## 2. Loading the Sample Dataset\n",
    "\n",
    "We will create a sample dataset with some missing values for this exercise. You can replace this with your own dataset if you prefer.\n"
   ]
  },
  {
   "cell_type": "code",
   "execution_count": null,
   "metadata": {
    "vscode": {
     "languageId": "python"
    }
   },
   "outputs": [],
   "source": [
    "\n",
    "\n",
    "data = {'name': ['Alice', 'Bob', 'Charlie', 'David', 'Eve', 'Frank', 'Grace'],\n",
    "        'age': [24, np.nan, 22, 29, 25, np.nan, 30],\n",
    "        'city': ['New York', 'Los Angeles', 'Chicago', np.nan, 'San Francisco', 'Seattle', 'Austin'],\n",
    "        'income': [50000, 48000, np.nan, 53000, 45000, 55000, np.nan]}\n",
    "\n",
    "df = pd.DataFrame(data)\n",
    "df"
   ]
  },
  {
   "attachments": {},
   "cell_type": "markdown",
   "metadata": {},
   "source": [
    "## 3. Removing Missing Data\n",
    "#### Exercise 1: Remove rows with missing data\n",
    "Use the dropna() method to remove any rows containing missing values.\n"
   ]
  },
  {
   "cell_type": "code",
   "execution_count": null,
   "metadata": {
    "vscode": {
     "languageId": "python"
    }
   },
   "outputs": [],
   "source": [
    "\n",
    "\n",
    "df_cleaned = df.dropna()\n",
    "df_cleaned"
   ]
  },
  {
   "attachments": {},
   "cell_type": "markdown",
   "metadata": {},
   "source": [
    "#### Exercise 2: Remove columns with missing data\n",
    "Use the dropna() method with axis=1 to remove any columns containing missing values."
   ]
  },
  {
   "cell_type": "code",
   "execution_count": null,
   "metadata": {
    "vscode": {
     "languageId": "python"
    }
   },
   "outputs": [],
   "source": [
    "\n",
    "df_cleaned = df.dropna(axis=1)\n",
    "df_cleaned"
   ]
  },
  {
   "attachments": {},
   "cell_type": "markdown",
   "metadata": {},
   "source": [
    "## 4. Replacing Missing Data with Constructed Values\n",
    "#### Exercise 3: Replace missing values with a constant\n",
    "Use the fillna() method to replace any missing values with a constant value (e.g., 0).\n"
   ]
  },
  {
   "cell_type": "code",
   "execution_count": null,
   "metadata": {
    "vscode": {
     "languageId": "python"
    }
   },
   "outputs": [],
   "source": [
    "\n",
    "df_filled = df.fillna(0)\n",
    "df_filled"
   ]
  },
  {
   "attachments": {},
   "cell_type": "markdown",
   "metadata": {},
   "source": [
    "#### Exercise 4: Replace missing values using forward fill\n",
    "Use the fillna() method with method='ffill' to fill missing values with the previous value in the same column."
   ]
  },
  {
   "cell_type": "code",
   "execution_count": null,
   "metadata": {
    "vscode": {
     "languageId": "python"
    }
   },
   "outputs": [],
   "source": [
    "\n",
    "df_filled = df.fillna(method='ffill')\n",
    "df_filled"
   ]
  },
  {
   "attachments": {},
   "cell_type": "markdown",
   "metadata": {},
   "source": [
    "#### Exercise 5: Replace missing values using backward fill\n",
    "Use the fillna() method with method='bfill' to fill missing values with the next value in the same column.\n"
   ]
  },
  {
   "cell_type": "code",
   "execution_count": null,
   "metadata": {
    "vscode": {
     "languageId": "python"
    }
   },
   "outputs": [],
   "source": [
    "\n",
    "df_filled = df.fillna(method='bfill')\n",
    "df_filled"
   ]
  },
  {
   "attachments": {},
   "cell_type": "markdown",
   "metadata": {},
   "source": [
    "#### Exercise 6: Replace missing values with the mean\n",
    "Use the fillna() method in combination with mean() to replace missing values with the mean value of the corresponding column.\n"
   ]
  },
  {
   "cell_type": "code",
   "execution_count": null,
   "metadata": {
    "vscode": {
     "languageId": "python"
    }
   },
   "outputs": [],
   "source": [
    "df_filled = df.fillna(df.mean(numeric_only=True))\n",
    "df_filled"
   ]
  },
  {
   "attachments": {},
   "cell_type": "markdown",
   "metadata": {},
   "source": [
    "#### Exercise 7: Replace missing values with the median\n",
    "Use the fillna() method in combination with median() to replace missing values with the median value of the corresponding column.\n"
   ]
  },
  {
   "cell_type": "code",
   "execution_count": null,
   "metadata": {
    "vscode": {
     "languageId": "python"
    }
   },
   "outputs": [],
   "source": [
    "\n",
    "df_filled = df.fillna(df.median(numeric_only=True))\n",
    "df_filled"
   ]
  },
  {
   "attachments": {},
   "cell_type": "markdown",
   "metadata": {},
   "source": [
    "#### Exercise 8: Replace missing values with the mode\n",
    "Use the fillna() method in combination with mode() to replace missing values with the mode value of the corresponding column.\n"
   ]
  },
  {
   "cell_type": "code",
   "execution_count": null,
   "metadata": {
    "vscode": {
     "languageId": "python"
    }
   },
   "outputs": [],
   "source": [
    "\n",
    "df_filled = df.fillna(df.mode().iloc[0])\n",
    "df_filled"
   ]
  },
  {
   "attachments": {},
   "cell_type": "markdown",
   "metadata": {},
   "source": [
    "## 5. Conclusion\n",
    "In this Jupyter Notebook, we practiced data cleaning techniques such as removing and replacing missing data. We used Pandas and NumPy to perform these operations on a sample dataset. As a data engineer, it's important to master these techniques, as they form the foundation of the data preprocessing stage in any data project.\n",
    "\n",
    "Moving forward, you can explore more advanced techniques for handling missing data, such as using machine learning algorithms for imputation or considering domain-specific knowledge to decide how to handle missing values. You can also practice data cleaning on larger, real-world datasets to become more proficient in handling various data issues.\n",
    "\n",
    "Additionally, consider exploring other aspects of data preprocessing, such as data transformation, feature scaling, and encoding categorical variables. Building a strong foundation in data cleaning and preprocessing will help you tackle complex data engineering tasks and improve the quality of your data pipelines."
   ]
  },
  {
   "cell_type": "code",
   "execution_count": null,
   "metadata": {
    "vscode": {
     "languageId": "python"
    }
   },
   "outputs": [],
   "source": []
  }
 ],
 "metadata": {
  "kernelspec": {
   "display_name": "Python 3 (ipykernel)",
   "language": "python",
   "name": "python3"
  },
  "orig_nbformat": 4
 },
 "nbformat": 4,
 "nbformat_minor": 2
}
