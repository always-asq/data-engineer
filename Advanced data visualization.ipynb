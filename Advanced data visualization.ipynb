{
 "cells": [
  {
   "cell_type": "code",
   "execution_count": null,
   "metadata": {},
   "outputs": [],
   "source": []
  },
  {
   "attachments": {},
   "cell_type": "markdown",
   "metadata": {},
   "source": [
    "# Advanced data visualization\n",
    "\n",
    "In this Jupyter Notebook, we will explore more advanced data visualization techniques using Seaborn on the \"Adult Income\" dataset from the UCI Machine Learning Repository. \n",
    "\n",
    "First, make sure to install the required libraries if you haven't already:"
   ]
  },
  {
   "cell_type": "code",
   "execution_count": null,
   "metadata": {},
   "outputs": [],
   "source": [
    "%pip install pandas seaborn\n"
   ]
  },
  {
   "attachments": {},
   "cell_type": "markdown",
   "metadata": {},
   "source": [
    "## 1. Importing Libraries"
   ]
  },
  {
   "cell_type": "code",
   "execution_count": null,
   "metadata": {},
   "outputs": [],
   "source": [
    "import pandas as pd\n",
    "import seaborn as sns\n",
    "import matplotlib.pyplot as plt\n"
   ]
  },
  {
   "attachments": {},
   "cell_type": "markdown",
   "metadata": {},
   "source": [
    "## 2. Loading the Dataset\n",
    "We will use the \"Adult Income\" dataset from the UCI Machine Learning Repository."
   ]
  },
  {
   "cell_type": "code",
   "execution_count": null,
   "metadata": {},
   "outputs": [],
   "source": [
    "url = \"https://archive.ics.uci.edu/ml/machine-learning-databases/adult/adult.data\"\n",
    "column_names = [\"age\", \"workclass\", \"fnlwgt\", \"education\", \"education-num\", \"marital-status\", \"occupation\", \"relationship\", \"race\", \"sex\", \"capital-gain\", \"capital-loss\", \"hours-per-week\", \"native-country\", \"income\"]\n",
    "\n",
    "df = pd.read_csv(url, header=None, names=column_names, na_values=' ?', skipinitialspace=True)\n",
    "df.head()\n"
   ]
  },
  {
   "attachments": {},
   "cell_type": "markdown",
   "metadata": {},
   "source": [
    "## 3. Visualizing Numeric Columns\n",
    "### Histograms with Kernel Density Estimation"
   ]
  },
  {
   "cell_type": "code",
   "execution_count": null,
   "metadata": {},
   "outputs": [],
   "source": [
    "sns.histplot(data=df, x='age', kde=True, bins=20)\n",
    "plt.xlabel('Age')\n",
    "plt.ylabel('Frequency')\n",
    "plt.title('Age Distribution')\n",
    "plt.show()\n"
   ]
  },
  {
   "attachments": {},
   "cell_type": "markdown",
   "metadata": {},
   "source": [
    "### Box Plots with Swarmplot"
   ]
  },
  {
   "cell_type": "code",
   "execution_count": null,
   "metadata": {},
   "outputs": [],
   "source": [
    "sns.boxplot(data=df, x='income', y='age')\n",
    "sns.swarmplot(data=df.sample(1000), x='income', y='age', color='black', size=3) # Sample 1000 data points to avoid clutter\n",
    "plt.xlabel('Income')\n",
    "plt.ylabel('Age')\n",
    "plt.title('Age Distribution by Income')\n",
    "plt.show()\n"
   ]
  },
  {
   "attachments": {},
   "cell_type": "markdown",
   "metadata": {},
   "source": [
    "## 4. Visualizing Categorical Columns\n",
    "### Count Plots"
   ]
  },
  {
   "cell_type": "code",
   "execution_count": null,
   "metadata": {},
   "outputs": [],
   "source": [
    "sns.countplot(data=df, x='workclass', order=df['workclass'].value_counts().index)\n",
    "plt.xticks(rotation=45)\n",
    "plt.xlabel('Workclass')\n",
    "plt.ylabel('Frequency')\n",
    "plt.title('Workclass Distribution')\n",
    "plt.show()\n"
   ]
  },
  {
   "attachments": {},
   "cell_type": "markdown",
   "metadata": {},
   "source": [
    "## 5. Visualizing Relationships Between Columns\n",
    "### Scatter Plots with Regression Line"
   ]
  },
  {
   "cell_type": "code",
   "execution_count": null,
   "metadata": {},
   "outputs": [],
   "source": [
    "sns.regplot(data=df.sample(1000), x='age', y='hours-per-week', scatter_kws={'alpha': 0.2}) # Sample 1000 data points for performance\n",
    "plt.xlabel('Age')\n",
    "plt.ylabel('Hours per Week')\n",
    "plt.title('Scatter Plot of Age vs. Hours per Week')\n",
    "plt.show()\n"
   ]
  },
  {
   "attachments": {},
   "cell_type": "markdown",
   "metadata": {},
   "source": [
    "### Grouped Bar Plots with Point Plot"
   ]
  },
  {
   "cell_type": "code",
   "execution_count": null,
   "metadata": {},
   "outputs": [],
   "source": [
    "sns.catplot(data=df, x='income', y='hours-per-week', hue='sex', kind='bar', ci=None)\n",
    "sns.pointplot(data=df, x='income', y='hours-per-week', hue='sex', join=False, ci=None, markers=['x', 'o'], palette=\"dark\")\n",
    "plt.xlabel('Income')\n",
    "plt.ylabel('Hours per Week')\n",
    "plt.title('Hours per Week by Income and Sex')\n",
    "plt.show()\n"
   ]
  },
  {
   "attachments": {},
   "cell_type": "markdown",
   "metadata": {},
   "source": [
    "### Heatmaps"
   ]
  },
  {
   "cell_type": "code",
   "execution_count": null,
   "metadata": {},
   "outputs": [],
   "source": [
    "# Create a contingency table of education and income\n",
    "contingency_table = pd.crosstab(df['education'], df['income'])\n",
    "\n",
    "# Calculate the percentage of each income group within each education level\n",
    "percentage_table = contingency_table.div(contingency_table.sum(axis=1), axis=0)\n",
    "\n",
    "sns.heatmap(percentage_table, cmap=\"YlGnBu\", annot=True, cbar_kws={'label': 'Percentage'})\n",
    "plt.xlabel('Income')\n",
    "plt.ylabel('Education')\n",
    "plt.title('Income Distribution by Education Level')\n",
    "plt.show()\n",
    "\n"
   ]
  },
  {
   "cell_type": "markdown",
   "metadata": {},
   "source": [
    "\n",
    "### Pair Plot\n"
   ]
  },
  {
   "cell_type": "code",
   "execution_count": null,
   "metadata": {},
   "outputs": [],
   "source": [
    "\n",
    "# Select a subset of numeric columns to analyze\n",
    "numeric_columns = ['age', 'education-num', 'capital-gain', 'capital-loss', 'hours-per-week']\n",
    "data_subset = df[numeric_columns]\n",
    "\n",
    "# Add the 'income' column to use as a color code\n",
    "data_subset['income'] = df['income']\n",
    "\n",
    "sns.pairplot(data_subset.sample(1000), hue='income', diag_kind='hist', plot_kws={'alpha': 0.6, 's': 20, 'edgecolor': 'k'}, palette=\"husl\") # Sample 1000 data points for performance\n",
    "plt.suptitle('Pair Plot of Selected Numeric Columns', y=1.02) # Add a title and adjust the vertical space\n",
    "plt.show()\n"
   ]
  },
  {
   "attachments": {},
   "cell_type": "markdown",
   "metadata": {},
   "source": [
    "\n",
    "These visualizations provide a deeper understanding of the dataset. You can further customize the appearance and create more complex visualizations by exploring the Seaborn library. Additionally, you may want to explore other visualization libraries such as Plotly for interactive visualizations.\n",
    "\n",
    "\n",
    "\n",
    "\n"
   ]
  }
 ],
 "metadata": {
  "language_info": {
   "name": "python"
  },
  "orig_nbformat": 4
 },
 "nbformat": 4,
 "nbformat_minor": 2
}
