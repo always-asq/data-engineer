{
 "cells": [
  {
   "attachments": {},
   "cell_type": "markdown",
   "metadata": {},
   "source": [
    "# Extended Data Cleansing"
   ]
  },
  {
   "attachments": {},
   "cell_type": "markdown",
   "metadata": {},
   "source": [
    "Let's use the \"Adult Income\" dataset from the UCI Machine Learning Repository, which is a larger dataset with both numeric and categorical attributes. You can find it __[here](https://archive.ics.uci.edu/ml/datasets/adult)__.\n",
    "\n",
    "First, download the dataset and load it into a DataFrame:"
   ]
  },
  {
   "cell_type": "code",
   "execution_count": null,
   "metadata": {},
   "outputs": [],
   "source": [
    "import pandas as pd\n",
    "import numpy as np\n",
    "\n",
    "url = \"https://archive.ics.uci.edu/ml/machine-learning-databases/adult/adult.data\"\n",
    "column_names = [\"age\", \"workclass\", \"fnlwgt\", \"education\", \"education-num\", \"marital-status\", \"occupation\", \"relationship\", \"race\", \"sex\", \"capital-gain\", \"capital-loss\", \"hours-per-week\", \"native-country\", \"income\"]\n",
    "\n",
    "df = pd.read_csv(url, header=None, names=column_names, na_values=' ?', skipinitialspace=True)\n",
    "df.head()"
   ]
  },
  {
   "attachments": {},
   "cell_type": "markdown",
   "metadata": {},
   "source": [
    "\n",
    "\n",
    "The `na_values` and `skipinitialspace` arguments help us identify missing values in the dataset, as they are represented by a question mark with a preceding space.\n",
    "\n",
    "Now let's introduce some missing values to the numeric columns for practice purposes:\n"
   ]
  },
  {
   "cell_type": "code",
   "execution_count": null,
   "metadata": {},
   "outputs": [],
   "source": [
    "np.random.seed(42)\n",
    "df.loc[np.random.choice(df.index, 200, replace=False), \"age\"] = np.nan\n",
    "df.loc[np.random.choice(df.index, 200, replace=False), \"education-num\"] = np.nan\n",
    "df.loc[np.random.choice(df.index, 200, replace=False), \"capital-gain\"] = np.nan\n",
    "df.loc[np.random.choice(df.index, 200, replace=False), \"capital-loss\"] = np.nan\n",
    "df.loc[np.random.choice(df.index, 200, replace=False), \"hours-per-week\"] = np.nan"
   ]
  },
  {
   "attachments": {},
   "cell_type": "markdown",
   "metadata": {},
   "source": [
    "\n",
    "Now we can perform the data cleaning operations as before and observe their impact on the statistics of the numeric columns.\n"
   ]
  },
  {
   "cell_type": "code",
   "execution_count": null,
   "metadata": {},
   "outputs": [],
   "source": [
    "# Removing missing data\n",
    "df_cleaned = df.dropna()\n",
    "print(\"Removed Missing Data:\\n\", df_cleaned.describe())\n",
    "\n",
    "# Replacing missing values with the mean\n",
    "df_mean = df.fillna(df.mean(numeric_only=True))\n",
    "print(\"Replaced with Mean:\\n\", df_mean.describe())\n",
    "\n",
    "# Replacing missing values with the median\n",
    "df_median = df.fillna(df.median(numeric_only=True))\n",
    "print(\"Replaced with Median:\\n\", df_median.describe())\n",
    "\n",
    "# Replacing missing values using forward fill\n",
    "df_ffill = df.fillna(method='ffill')\n",
    "print(\"Replaced with Forward Fill:\\n\", df_ffill.describe())\n",
    "\n",
    "# Replacing missing values using backward fill\n",
    "df_bfill = df.fillna(method='bfill')\n",
    "print(\"Replaced with Backward Fill:\\n\", df_bfill.describe())"
   ]
  },
  {
   "attachments": {},
   "cell_type": "markdown",
   "metadata": {},
   "source": [
    "\n",
    "\n",
    "The `describe()` function provides summary statistics for each numeric column in the DataFrame. By comparing these statistics across different cleaning methods, you can observe the impact on the dataset's distribution.\n"
   ]
  },
  {
   "attachments": {},
   "cell_type": "markdown",
   "metadata": {},
   "source": [
    "\n",
    "Extra exercises:\n",
    "\n",
    "1. Compare the mean and standard deviation for each numeric column after applying different missing value handling techniques. What are the advantages and disadvantages of each method?\n",
    "\n",
    "2. Investigate the impact of missing value handling techniques on the correlation between numeric columns. Use the `corr()` method to compute the correlation matrix for the original dataset and each cleaned version. How do different methods affect the correlation?\n",
    "\n",
    "3. Identify columns with a high percentage of missing values. Experiment with different threshold values and decide whether to remove or impute these columns.\n",
    "\n",
    "4. Explore advanced imputation methods, such as k-Nearest Neighbors or regression-based imputation, using the `sklearn.impute` module. Compare their performance with the basic methods covered in this notebook."
   ]
  }
 ],
 "metadata": {
  "language_info": {
   "name": "python"
  },
  "orig_nbformat": 4
 },
 "nbformat": 4,
 "nbformat_minor": 2
}
